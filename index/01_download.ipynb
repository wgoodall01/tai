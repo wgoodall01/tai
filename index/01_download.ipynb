{
 "cells": [
  {
   "cell_type": "markdown",
   "metadata": {},
   "source": [
    "# 01. Download\n",
    "\n",
    "- Download all the files from a given Canvas course, into `_data/*`\n",
    "\n",
    "- Structure of course data:\n",
    "  - `_data/course-${course_id}` (course_id is the number in the canvas url)\n",
    "    - `files/`\n",
    "      - < insert a download of all the files >\n",
    "    - `posts/` (perhaps tbd)\n",
    "      - < extract of all the posts, markdown perhaps? >\n",
    "    - `modules/`, `announcements/`, etc. Folders here named for the part of canvas something came from.\n"
   ]
  },
  {
   "cell_type": "code",
   "execution_count": null,
   "metadata": {},
   "outputs": [],
   "source": [
    "# TODO"
   ]
  },
  {
   "cell_type": "markdown",
   "metadata": {},
   "source": [
    "## Setup & Imports"
   ]
  },
  {
   "cell_type": "code",
   "execution_count": 16,
   "metadata": {},
   "outputs": [],
   "source": [
    "import os\n",
    "import requests\n",
    "from tai_index import example\n",
    "from dotenv import load_dotenv\n",
    "import urllib.request"
   ]
  },
  {
   "cell_type": "code",
   "execution_count": 45,
   "metadata": {},
   "outputs": [],
   "source": [
    "load_dotenv()\n",
    "canvas_token = os.getenv('CANVAS_TOKEN')\n",
    "\n",
    "canvas_url = os.getenv('CANVAS_URL')"
   ]
  },
  {
   "cell_type": "markdown",
   "metadata": {},
   "source": [
    "## File Download"
   ]
  },
  {
   "cell_type": "code",
   "execution_count": 43,
   "metadata": {},
   "outputs": [],
   "source": [
    "def download_files(course_id):\n",
    "    \n",
    "    # Set up API request for files\n",
    "    files_url = f'{canvas_url}/courses/{course_id}/files'\n",
    "    headers = {'Authorization': f'Bearer {canvas_token}'}\n",
    "\n",
    "    # Loop to account for pagination!\n",
    "    while(files_url):\n",
    "\n",
    "        files_response = requests.get(files_url, headers=headers)\n",
    "\n",
    "        # Break if this is not a link\n",
    "        if not 'Link' in files_response.headers:\n",
    "            break\n",
    "\n",
    "        # More breaking\n",
    "        links = requests.utils.parse_header_links(files_response.headers['Link'].rstrip('>').replace('>,<', ',<'))\n",
    "        files_url = None\n",
    "        for link in links:\n",
    "            if link['rel'] == 'next':\n",
    "                files_url = link['url']\n",
    "                break\n",
    "\n",
    "        # Get list of files\n",
    "        files = files_response.json()\n",
    "\n",
    "        # Create a directory to store the downloaded files\n",
    "        directory = f'_data/course-{course_id}/files/'\n",
    "        if not os.path.exists(directory):\n",
    "            os.makedirs(directory)\n",
    "\n",
    "        # Iterate through files in files\n",
    "        for file in files:\n",
    "\n",
    "            print(\"Downloading: \" + file['display_name'] + \"...\")\n",
    "            \n",
    "            # Set up API request for file\n",
    "            filepath = os.path.join(directory, file['display_name'])\n",
    "            if not os.path.exists(filepath):\n",
    "                urllib.request.urlretrieve(file['url'], filepath)\n"
   ]
  }
 ],
 "metadata": {
  "kernelspec": {
   "display_name": ".venv",
   "language": "python",
   "name": "python3"
  },
  "language_info": {
   "codemirror_mode": {
    "name": "ipython",
    "version": 3
   },
   "file_extension": ".py",
   "mimetype": "text/x-python",
   "name": "python",
   "nbconvert_exporter": "python",
   "pygments_lexer": "ipython3",
   "version": "3.11.6"
  },
  "orig_nbformat": 4
 },
 "nbformat": 4,
 "nbformat_minor": 2
}
