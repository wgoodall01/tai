{
 "cells": [
  {
   "cell_type": "markdown",
   "metadata": {},
   "source": [
    "# 02. Index\n",
    "\n",
    "- Index all the data downloaded into `_data/*`\n",
    "- Put the index...somewhere? MongoDB? On the filesystem?\n"
   ]
  },
  {
   "cell_type": "code",
   "execution_count": null,
   "metadata": {},
   "outputs": [],
   "source": [
    "%load_ext autoreload\n",
    "%autoreload 2\n",
    "\n",
    "from dotenv import load_dotenv\n",
    "from llama_index import VectorStoreIndex, SimpleDirectoryReader, ServiceContext\n",
    "from llama_index.readers.file.base import DEFAULT_FILE_READER_CLS\n",
    "from llama_index.llms import OpenAI\n",
    "from llama_index.vector_stores.docarray import DocArrayHnswVectorStore\n",
    "from llama_index.storage.index_store import MongoIndexStore\n",
    "from llama_index.storage.storage_context import StorageContext\n",
    "from llama_index.text_splitter import TokenTextSplitter\n",
    "from llama_index.node_parser import SimpleNodeParser, SentenceWindowNodeParser\n",
    "from llama_index.query_engine import CitationQueryEngine\n",
    "from llama_index.embeddings import OpenAIEmbedding\n",
    "from llama_index.vector_stores.types import ExactMatchFilter, MetadataFilters\n",
    "from tai_index import pil_wmf_stub_loader\n",
    "from tqdm import tqdm\n",
    "import glob\n",
    "import openai\n",
    "import os\n",
    "from IPython.display import Markdown, display\n",
    "import pymongo\n",
    "import logging\n",
    "import json\n",
    "\n",
    "load_dotenv()\n",
    "\n",
    "openai.api_key = os.getenv(\"OPENAI_API_KEY\")"
   ]
  },
  {
   "cell_type": "code",
   "execution_count": null,
   "metadata": {},
   "outputs": [],
   "source": [
    "DATA_DIR = \"./_data\""
   ]
  },
  {
   "cell_type": "code",
   "execution_count": null,
   "metadata": {},
   "outputs": [],
   "source": [
    "# Configure text splitting and OpenAI service context\n",
    "\n",
    "# text_splitter = TokenTextSplitter()\n",
    "# node_parser = SimpleNodeParser.from_defaults(text_splitter=text_splitter)\n",
    "node_parser = SentenceWindowNodeParser()\n",
    "llm = OpenAI(model=\"gpt-4\")\n",
    "embed_model = OpenAIEmbedding(embed_batch_size=128)\n",
    "\n",
    "service_context = ServiceContext.from_defaults(\n",
    "    llm=llm, node_parser=node_parser, embed_model=embed_model\n",
    ")"
   ]
  },
  {
   "cell_type": "code",
   "execution_count": null,
   "metadata": {},
   "outputs": [],
   "source": [
    "# Configure the llama-index StorageContext\n",
    "\n",
    "storage_context = StorageContext.from_defaults()"
   ]
  },
  {
   "cell_type": "code",
   "execution_count": null,
   "metadata": {},
   "outputs": [],
   "source": [
    "# Configure the LlamaIndex readers\n",
    "\n",
    "from llama_index.readers.base import BaseReader\n",
    "from llama_index.readers.file.docs_reader import DocxReader, HWPReader, PDFReader\n",
    "from llama_index.readers.file.epub_reader import EpubReader\n",
    "from llama_index.readers.file.image_reader import ImageReader\n",
    "from llama_index.readers.file.ipynb_reader import IPYNBReader\n",
    "from llama_index.readers.file.markdown_reader import MarkdownReader\n",
    "from llama_index.readers.file.mbox_reader import MboxReader\n",
    "from llama_index.readers.file.slides_reader import PptxReader\n",
    "from llama_index.readers.file.tabular_reader import PandasCSVReader\n",
    "from llama_index.readers.file.video_audio_reader import VideoAudioReader\n",
    "from llama_hub.file.unstructured.base import UnstructuredReader\n",
    "from llama_index.schema import Document\n",
    "\n",
    "from tai_index.pptx_reader import PptxReaderNoCaption\n",
    "\n",
    "file_readers = {\n",
    "    \".pdf\": PDFReader(),\n",
    "    \".docx\": DocxReader(),\n",
    "    \".pptx\": PptxReaderNoCaption(),\n",
    "    \".csv\": PandasCSVReader(),\n",
    "    \".epub\": EpubReader(),\n",
    "    \".md\": MarkdownReader(),\n",
    "    \".mbox\": MboxReader(),\n",
    "    \".ipynb\": IPYNBReader(),\n",
    "    \".html\": UnstructuredReader(),\n",
    "}"
   ]
  },
  {
   "cell_type": "code",
   "execution_count": null,
   "metadata": {},
   "outputs": [],
   "source": [
    "def file_info(filename, course_id, source_index):\n",
    "    if source_index is None:\n",
    "        return {\"course_id\": course_id}\n",
    "\n",
    "    name = source_index[filename][\"name\"]\n",
    "    link = source_index[filename][\"link\"]\n",
    "    return {\"course_id\": course_id, \"name\": name, \"link\": link}"
   ]
  },
  {
   "cell_type": "code",
   "execution_count": null,
   "metadata": {},
   "outputs": [],
   "source": [
    "course_ids = [\n",
    "    \"352034\",\n",
    "    # '322048',\n",
    "    # '272942',\n",
    "    # \"226700\",\n",
    "    # '208522',\n",
    "    # '130432',\n",
    "]\n",
    "display(\"Course IDs:\", course_ids)\n",
    "\n",
    "# Load data from each course into a document list.\n",
    "documents = []\n",
    "for course_id in (bar := tqdm(course_ids, desc=\"Load Course Data\")):\n",
    "    source_index = None\n",
    "    filepath = f\"_data/course-{course_id}/source_index.json\"\n",
    "    try:\n",
    "        with open(filepath, \"r\") as file:\n",
    "            source_index = json.loads(file.read())\n",
    "    except:\n",
    "        print(\"No source index found for course\", course_id)\n",
    "\n",
    "    bar.set_description(f\"{course_id=}\")\n",
    "\n",
    "    bar.set_postfix_str(\"Reading\")\n",
    "    reader = SimpleDirectoryReader(\n",
    "        f\"{DATA_DIR}/course-{course_id}/\",\n",
    "        recursive=True,\n",
    "        file_extractor=file_readers,\n",
    "        required_exts=file_readers.keys(),\n",
    "        file_metadata=lambda filename: file_info(filename, course_id, source_index),\n",
    "    )\n",
    "\n",
    "    bar.set_postfix_str(\"Loading\")\n",
    "    documents.extend(reader.load_data())"
   ]
  },
  {
   "cell_type": "code",
   "execution_count": null,
   "metadata": {},
   "outputs": [],
   "source": [
    "# Build the index from the documents\n",
    "index = VectorStoreIndex.from_documents(\n",
    "    documents,\n",
    "    show_progress=True,\n",
    "    service_context=service_context,\n",
    "    storage_context=storage_context,\n",
    ")"
   ]
  },
  {
   "cell_type": "code",
   "execution_count": null,
   "metadata": {},
   "outputs": [],
   "source": [
    "storage_context.persist(\"_data/index_store\")"
   ]
  },
  {
   "cell_type": "code",
   "execution_count": null,
   "metadata": {},
   "outputs": [],
   "source": []
  }
 ],
 "metadata": {
  "kernelspec": {
   "display_name": ".venv",
   "language": "python",
   "name": "python3"
  },
  "language_info": {
   "codemirror_mode": {
    "name": "ipython",
    "version": 3
   },
   "file_extension": ".py",
   "mimetype": "text/x-python",
   "name": "python",
   "nbconvert_exporter": "python",
   "pygments_lexer": "ipython3",
   "version": "3.11.5"
  },
  "orig_nbformat": 4
 },
 "nbformat": 4,
 "nbformat_minor": 2
}
