{
 "cells": [
  {
   "cell_type": "markdown",
   "metadata": {},
   "source": [
    "# 01. Download\n",
    "\n",
    "- Download all the files from a given Canvas course, into `_data/*`\n",
    "\n",
    "- Structure of course data:\n",
    "  - `_data/course-${course_id}` (course_id is the number in the canvas url)\n",
    "    - `files/`\n",
    "      - < insert a download of all the files >\n",
    "    - `posts/` (perhaps tbd)\n",
    "      - < extract of all the posts, markdown perhaps? >\n",
    "    - `modules/`, `announcements/`, etc. Folders here named for the part of canvas something came from.\n"
   ]
  },
  {
   "cell_type": "code",
   "execution_count": null,
   "metadata": {},
   "outputs": [],
   "source": [
    "# TODO"
   ]
  },
  {
   "cell_type": "code",
   "execution_count": 1,
   "metadata": {},
   "outputs": [
    {
     "name": "stdout",
     "output_type": "stream",
     "text": [
      "yeet\n"
     ]
    }
   ],
   "source": [
    "from tai_index import example\n",
    "\n",
    "print(example.hello())"
   ]
  }
 ],
 "metadata": {
  "kernelspec": {
   "display_name": ".venv",
   "language": "python",
   "name": "python3"
  },
  "language_info": {
   "codemirror_mode": {
    "name": "ipython",
    "version": 3
   },
   "file_extension": ".py",
   "mimetype": "text/x-python",
   "name": "python",
   "nbconvert_exporter": "python",
   "pygments_lexer": "ipython3",
   "version": "3.11.5"
  },
  "orig_nbformat": 4
 },
 "nbformat": 4,
 "nbformat_minor": 2
}
